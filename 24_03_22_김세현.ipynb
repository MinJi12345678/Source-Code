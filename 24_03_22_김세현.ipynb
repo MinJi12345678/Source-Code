{
  "nbformat": 4,
  "nbformat_minor": 0,
  "metadata": {
    "colab": {
      "provenance": [],
      "toc_visible": true,
      "authorship_tag": "ABX9TyPJaipFUjjTcy3py2ntNjYx",
      "include_colab_link": true
    },
    "kernelspec": {
      "name": "python3",
      "display_name": "Python 3"
    },
    "language_info": {
      "name": "python"
    }
  },
  "cells": [
    {
      "cell_type": "markdown",
      "metadata": {
        "id": "view-in-github",
        "colab_type": "text"
      },
      "source": [
        "<a href=\"https://colab.research.google.com/github/MinJi12345678/Source-Code/blob/main/24_03_22_%EA%B9%80%EC%84%B8%ED%98%84.ipynb\" target=\"_parent\"><img src=\"https://colab.research.google.com/assets/colab-badge.svg\" alt=\"Open In Colab\"/></a>"
      ]
    },
    {
      "cell_type": "markdown",
      "source": [
        "#0. 한글"
      ],
      "metadata": {
        "id": "t1k7rH2kPKVX"
      }
    },
    {
      "cell_type": "code",
      "source": [
        "# Linux Package Installation\n",
        "!apt-get -qq -y install fonts-nanum > /dev/null\n",
        "\n",
        "# Delete Cache\n",
        "!rm -rf ~/.cache/matplotlib -rf"
      ],
      "metadata": {
        "id": "8ALy5ePlOZnS"
      },
      "execution_count": null,
      "outputs": []
    },
    {
      "cell_type": "code",
      "source": [
        "import os\n",
        "\n",
        "os.kill(os.getpid(), 9)"
      ],
      "metadata": {
        "id": "HXrm6sKoObGU"
      },
      "execution_count": null,
      "outputs": []
    },
    {
      "cell_type": "code",
      "source": [
        "import matplotlib.pyplot as plt\n",
        "import matplotlib as mpl\n",
        "\n",
        "# 마이너스 폰트 깨짐 방지\n",
        "mpl.rcParams['axes.unicode_minus'] = False\n",
        "\n",
        "# 나눔고딕 전역폰트 지정\n",
        "plt.rcParams['font.family'] = 'NanumGothic'"
      ],
      "metadata": {
        "id": "ALNmSfMHOcpf"
      },
      "execution_count": null,
      "outputs": []
    },
    {
      "cell_type": "code",
      "source": [
        "import warnings\n",
        "warnings.filterwarnings('ignore')"
      ],
      "metadata": {
        "id": "pCR3g5MrOei-"
      },
      "execution_count": null,
      "outputs": []
    },
    {
      "cell_type": "markdown",
      "source": [
        "#패션데이터"
      ],
      "metadata": {
        "id": "tyWeq8SKP00A"
      }
    },
    {
      "cell_type": "markdown",
      "source": [
        "##1. Data Load"
      ],
      "metadata": {
        "id": "d1lCJJ9lPOjq"
      }
    },
    {
      "cell_type": "code",
      "execution_count": null,
      "metadata": {
        "colab": {
          "base_uri": "https://localhost:8080/"
        },
        "id": "XRPL7PgFF_CJ",
        "outputId": "b618941e-a9e8-419e-f52f-a6aac390c31d"
      },
      "outputs": [
        {
          "output_type": "stream",
          "name": "stdout",
          "text": [
            "Drive already mounted at /content/drive; to attempt to forcibly remount, call drive.mount(\"/content/drive\", force_remount=True).\n"
          ]
        }
      ],
      "source": [
        "from google.colab import drive\n",
        "drive.mount('/content/drive')"
      ]
    },
    {
      "cell_type": "code",
      "source": [
        "import pandas as pd\n",
        "\n",
        "DF = pd.read_csv('/content/drive/MyDrive/5조/03. 데이터/패션 데이터/230215.csv')"
      ],
      "metadata": {
        "id": "kfVeynyYGbG3"
      },
      "execution_count": null,
      "outputs": []
    },
    {
      "cell_type": "code",
      "source": [
        "DF.info()"
      ],
      "metadata": {
        "colab": {
          "base_uri": "https://localhost:8080/"
        },
        "id": "GWGwgn1sGfUD",
        "outputId": "c2eb05b2-86a6-4f69-8cbc-55b2cdce07a5"
      },
      "execution_count": null,
      "outputs": [
        {
          "output_type": "stream",
          "name": "stdout",
          "text": [
            "<class 'pandas.core.frame.DataFrame'>\n",
            "RangeIndex: 858215 entries, 0 to 858214\n",
            "Data columns (total 16 columns):\n",
            " #   Column                Non-Null Count   Dtype \n",
            "---  ------                --------------   ----- \n",
            " 0   category_large_desc   858215 non-null  object\n",
            " 1   category_middle_desc  858215 non-null  object\n",
            " 2   category_small_desc   858215 non-null  object\n",
            " 3   item                  676959 non-null  object\n",
            " 4   color                 711970 non-null  object\n",
            " 5   use                   242476 non-null  object\n",
            " 6   material              755054 non-null  object\n",
            " 7   print_pattern         368166 non-null  object\n",
            " 8   characteristic        547034 non-null  object\n",
            " 9   detail                589722 non-null  object\n",
            " 10  age                   3784 non-null    object\n",
            " 11  weight                41831 non-null   object\n",
            " 12  season                830 non-null     object\n",
            " 13  sensibility           603684 non-null  object\n",
            " 14  sale_price            858215 non-null  int64 \n",
            " 15  recent_sale_count     858215 non-null  int64 \n",
            "dtypes: int64(2), object(14)\n",
            "memory usage: 104.8+ MB\n"
          ]
        }
      ]
    },
    {
      "cell_type": "code",
      "source": [
        "DF.head()"
      ],
      "metadata": {
        "colab": {
          "base_uri": "https://localhost:8080/",
          "height": 1000
        },
        "id": "gmPscLgJGgvy",
        "outputId": "8b1112ee-80b6-4c41-e94b-5fd234550b5b"
      },
      "execution_count": null,
      "outputs": [
        {
          "output_type": "execute_result",
          "data": {
            "text/plain": [
              "  category_large_desc category_middle_desc category_small_desc  \\\n",
              "0                 여성복                  원피스                점프슈트   \n",
              "1                 여성복                  원피스                점프슈트   \n",
              "2                 여성복                  원피스                점프슈트   \n",
              "3                 여성복                  원피스                점프슈트   \n",
              "4                 여성복                  원피스                점프슈트   \n",
              "\n",
              "                                             item               color  use  \\\n",
              "0             바람막이/반바지/여름점프수트/반팔점프수트/반바지점프수트/점프수트              베이지/블랙  NaN   \n",
              "1                       점프수트/오버롤팬츠/데님점프수트/데일리점프수트                 NaN  NaN   \n",
              "2                      포켓점프수트/점프수트/데님점프수트/데일리점프수트                 NaN  NaN   \n",
              "3  스트링점프수트/반팔점프수트/반바지/반바지점프수트/점프수트/칼라점프슈트/데일리점프수트          베이지/블랙/그레이  캠핑룩   \n",
              "4                                             NaN  베이지/블랙/화이트/아이보리/카키  NaN   \n",
              "\n",
              "          material print_pattern characteristic          detail  age weight  \\\n",
              "0  코튼/폴리에스터/스판/나일론            체크            NaN             NaN  NaN    NaN   \n",
              "1  데님/코튼/폴리에스터/나일론            체크            빈티지   스트링/오버롤/자수/워싱  NaN    NaN   \n",
              "2  데님/코튼/폴리에스터/나일론           NaN            NaN         스트링/오버롤  NaN    NaN   \n",
              "3    폴리에스터/아크릴/나일론            체크            NaN         루즈핏/스트링  NaN    NaN   \n",
              "4        폴리에스터/나일론             별            시원한  루즈핏/슬림핏/스트링/커팅  NaN    NaN   \n",
              "\n",
              "  season sensibility  sale_price  recent_sale_count  \n",
              "0    NaN         NaN       28800                  0  \n",
              "1    NaN    레이어드/귀여운       28800                  0  \n",
              "2    NaN         귀여운       28800                  0  \n",
              "3    NaN        활동적인       35800                  0  \n",
              "4    NaN        캐주얼한       28800                  1  "
            ],
            "text/html": [
              "\n",
              "  <div id=\"df-ce8f0712-d493-46ca-afbd-232a7be9d21b\" class=\"colab-df-container\">\n",
              "    <div>\n",
              "<style scoped>\n",
              "    .dataframe tbody tr th:only-of-type {\n",
              "        vertical-align: middle;\n",
              "    }\n",
              "\n",
              "    .dataframe tbody tr th {\n",
              "        vertical-align: top;\n",
              "    }\n",
              "\n",
              "    .dataframe thead th {\n",
              "        text-align: right;\n",
              "    }\n",
              "</style>\n",
              "<table border=\"1\" class=\"dataframe\">\n",
              "  <thead>\n",
              "    <tr style=\"text-align: right;\">\n",
              "      <th></th>\n",
              "      <th>category_large_desc</th>\n",
              "      <th>category_middle_desc</th>\n",
              "      <th>category_small_desc</th>\n",
              "      <th>item</th>\n",
              "      <th>color</th>\n",
              "      <th>use</th>\n",
              "      <th>material</th>\n",
              "      <th>print_pattern</th>\n",
              "      <th>characteristic</th>\n",
              "      <th>detail</th>\n",
              "      <th>age</th>\n",
              "      <th>weight</th>\n",
              "      <th>season</th>\n",
              "      <th>sensibility</th>\n",
              "      <th>sale_price</th>\n",
              "      <th>recent_sale_count</th>\n",
              "    </tr>\n",
              "  </thead>\n",
              "  <tbody>\n",
              "    <tr>\n",
              "      <th>0</th>\n",
              "      <td>여성복</td>\n",
              "      <td>원피스</td>\n",
              "      <td>점프슈트</td>\n",
              "      <td>바람막이/반바지/여름점프수트/반팔점프수트/반바지점프수트/점프수트</td>\n",
              "      <td>베이지/블랙</td>\n",
              "      <td>NaN</td>\n",
              "      <td>코튼/폴리에스터/스판/나일론</td>\n",
              "      <td>체크</td>\n",
              "      <td>NaN</td>\n",
              "      <td>NaN</td>\n",
              "      <td>NaN</td>\n",
              "      <td>NaN</td>\n",
              "      <td>NaN</td>\n",
              "      <td>NaN</td>\n",
              "      <td>28800</td>\n",
              "      <td>0</td>\n",
              "    </tr>\n",
              "    <tr>\n",
              "      <th>1</th>\n",
              "      <td>여성복</td>\n",
              "      <td>원피스</td>\n",
              "      <td>점프슈트</td>\n",
              "      <td>점프수트/오버롤팬츠/데님점프수트/데일리점프수트</td>\n",
              "      <td>NaN</td>\n",
              "      <td>NaN</td>\n",
              "      <td>데님/코튼/폴리에스터/나일론</td>\n",
              "      <td>체크</td>\n",
              "      <td>빈티지</td>\n",
              "      <td>스트링/오버롤/자수/워싱</td>\n",
              "      <td>NaN</td>\n",
              "      <td>NaN</td>\n",
              "      <td>NaN</td>\n",
              "      <td>레이어드/귀여운</td>\n",
              "      <td>28800</td>\n",
              "      <td>0</td>\n",
              "    </tr>\n",
              "    <tr>\n",
              "      <th>2</th>\n",
              "      <td>여성복</td>\n",
              "      <td>원피스</td>\n",
              "      <td>점프슈트</td>\n",
              "      <td>포켓점프수트/점프수트/데님점프수트/데일리점프수트</td>\n",
              "      <td>NaN</td>\n",
              "      <td>NaN</td>\n",
              "      <td>데님/코튼/폴리에스터/나일론</td>\n",
              "      <td>NaN</td>\n",
              "      <td>NaN</td>\n",
              "      <td>스트링/오버롤</td>\n",
              "      <td>NaN</td>\n",
              "      <td>NaN</td>\n",
              "      <td>NaN</td>\n",
              "      <td>귀여운</td>\n",
              "      <td>28800</td>\n",
              "      <td>0</td>\n",
              "    </tr>\n",
              "    <tr>\n",
              "      <th>3</th>\n",
              "      <td>여성복</td>\n",
              "      <td>원피스</td>\n",
              "      <td>점프슈트</td>\n",
              "      <td>스트링점프수트/반팔점프수트/반바지/반바지점프수트/점프수트/칼라점프슈트/데일리점프수트</td>\n",
              "      <td>베이지/블랙/그레이</td>\n",
              "      <td>캠핑룩</td>\n",
              "      <td>폴리에스터/아크릴/나일론</td>\n",
              "      <td>체크</td>\n",
              "      <td>NaN</td>\n",
              "      <td>루즈핏/스트링</td>\n",
              "      <td>NaN</td>\n",
              "      <td>NaN</td>\n",
              "      <td>NaN</td>\n",
              "      <td>활동적인</td>\n",
              "      <td>35800</td>\n",
              "      <td>0</td>\n",
              "    </tr>\n",
              "    <tr>\n",
              "      <th>4</th>\n",
              "      <td>여성복</td>\n",
              "      <td>원피스</td>\n",
              "      <td>점프슈트</td>\n",
              "      <td>NaN</td>\n",
              "      <td>베이지/블랙/화이트/아이보리/카키</td>\n",
              "      <td>NaN</td>\n",
              "      <td>폴리에스터/나일론</td>\n",
              "      <td>별</td>\n",
              "      <td>시원한</td>\n",
              "      <td>루즈핏/슬림핏/스트링/커팅</td>\n",
              "      <td>NaN</td>\n",
              "      <td>NaN</td>\n",
              "      <td>NaN</td>\n",
              "      <td>캐주얼한</td>\n",
              "      <td>28800</td>\n",
              "      <td>1</td>\n",
              "    </tr>\n",
              "  </tbody>\n",
              "</table>\n",
              "</div>\n",
              "    <div class=\"colab-df-buttons\">\n",
              "\n",
              "  <div class=\"colab-df-container\">\n",
              "    <button class=\"colab-df-convert\" onclick=\"convertToInteractive('df-ce8f0712-d493-46ca-afbd-232a7be9d21b')\"\n",
              "            title=\"Convert this dataframe to an interactive table.\"\n",
              "            style=\"display:none;\">\n",
              "\n",
              "  <svg xmlns=\"http://www.w3.org/2000/svg\" height=\"24px\" viewBox=\"0 -960 960 960\">\n",
              "    <path d=\"M120-120v-720h720v720H120Zm60-500h600v-160H180v160Zm220 220h160v-160H400v160Zm0 220h160v-160H400v160ZM180-400h160v-160H180v160Zm440 0h160v-160H620v160ZM180-180h160v-160H180v160Zm440 0h160v-160H620v160Z\"/>\n",
              "  </svg>\n",
              "    </button>\n",
              "\n",
              "  <style>\n",
              "    .colab-df-container {\n",
              "      display:flex;\n",
              "      gap: 12px;\n",
              "    }\n",
              "\n",
              "    .colab-df-convert {\n",
              "      background-color: #E8F0FE;\n",
              "      border: none;\n",
              "      border-radius: 50%;\n",
              "      cursor: pointer;\n",
              "      display: none;\n",
              "      fill: #1967D2;\n",
              "      height: 32px;\n",
              "      padding: 0 0 0 0;\n",
              "      width: 32px;\n",
              "    }\n",
              "\n",
              "    .colab-df-convert:hover {\n",
              "      background-color: #E2EBFA;\n",
              "      box-shadow: 0px 1px 2px rgba(60, 64, 67, 0.3), 0px 1px 3px 1px rgba(60, 64, 67, 0.15);\n",
              "      fill: #174EA6;\n",
              "    }\n",
              "\n",
              "    .colab-df-buttons div {\n",
              "      margin-bottom: 4px;\n",
              "    }\n",
              "\n",
              "    [theme=dark] .colab-df-convert {\n",
              "      background-color: #3B4455;\n",
              "      fill: #D2E3FC;\n",
              "    }\n",
              "\n",
              "    [theme=dark] .colab-df-convert:hover {\n",
              "      background-color: #434B5C;\n",
              "      box-shadow: 0px 1px 3px 1px rgba(0, 0, 0, 0.15);\n",
              "      filter: drop-shadow(0px 1px 2px rgba(0, 0, 0, 0.3));\n",
              "      fill: #FFFFFF;\n",
              "    }\n",
              "  </style>\n",
              "\n",
              "    <script>\n",
              "      const buttonEl =\n",
              "        document.querySelector('#df-ce8f0712-d493-46ca-afbd-232a7be9d21b button.colab-df-convert');\n",
              "      buttonEl.style.display =\n",
              "        google.colab.kernel.accessAllowed ? 'block' : 'none';\n",
              "\n",
              "      async function convertToInteractive(key) {\n",
              "        const element = document.querySelector('#df-ce8f0712-d493-46ca-afbd-232a7be9d21b');\n",
              "        const dataTable =\n",
              "          await google.colab.kernel.invokeFunction('convertToInteractive',\n",
              "                                                    [key], {});\n",
              "        if (!dataTable) return;\n",
              "\n",
              "        const docLinkHtml = 'Like what you see? Visit the ' +\n",
              "          '<a target=\"_blank\" href=https://colab.research.google.com/notebooks/data_table.ipynb>data table notebook</a>'\n",
              "          + ' to learn more about interactive tables.';\n",
              "        element.innerHTML = '';\n",
              "        dataTable['output_type'] = 'display_data';\n",
              "        await google.colab.output.renderOutput(dataTable, element);\n",
              "        const docLink = document.createElement('div');\n",
              "        docLink.innerHTML = docLinkHtml;\n",
              "        element.appendChild(docLink);\n",
              "      }\n",
              "    </script>\n",
              "  </div>\n",
              "\n",
              "\n",
              "<div id=\"df-d8d5088f-2286-43a6-95f5-85cc8c136fa3\">\n",
              "  <button class=\"colab-df-quickchart\" onclick=\"quickchart('df-d8d5088f-2286-43a6-95f5-85cc8c136fa3')\"\n",
              "            title=\"Suggest charts\"\n",
              "            style=\"display:none;\">\n",
              "\n",
              "<svg xmlns=\"http://www.w3.org/2000/svg\" height=\"24px\"viewBox=\"0 0 24 24\"\n",
              "     width=\"24px\">\n",
              "    <g>\n",
              "        <path d=\"M19 3H5c-1.1 0-2 .9-2 2v14c0 1.1.9 2 2 2h14c1.1 0 2-.9 2-2V5c0-1.1-.9-2-2-2zM9 17H7v-7h2v7zm4 0h-2V7h2v10zm4 0h-2v-4h2v4z\"/>\n",
              "    </g>\n",
              "</svg>\n",
              "  </button>\n",
              "\n",
              "<style>\n",
              "  .colab-df-quickchart {\n",
              "      --bg-color: #E8F0FE;\n",
              "      --fill-color: #1967D2;\n",
              "      --hover-bg-color: #E2EBFA;\n",
              "      --hover-fill-color: #174EA6;\n",
              "      --disabled-fill-color: #AAA;\n",
              "      --disabled-bg-color: #DDD;\n",
              "  }\n",
              "\n",
              "  [theme=dark] .colab-df-quickchart {\n",
              "      --bg-color: #3B4455;\n",
              "      --fill-color: #D2E3FC;\n",
              "      --hover-bg-color: #434B5C;\n",
              "      --hover-fill-color: #FFFFFF;\n",
              "      --disabled-bg-color: #3B4455;\n",
              "      --disabled-fill-color: #666;\n",
              "  }\n",
              "\n",
              "  .colab-df-quickchart {\n",
              "    background-color: var(--bg-color);\n",
              "    border: none;\n",
              "    border-radius: 50%;\n",
              "    cursor: pointer;\n",
              "    display: none;\n",
              "    fill: var(--fill-color);\n",
              "    height: 32px;\n",
              "    padding: 0;\n",
              "    width: 32px;\n",
              "  }\n",
              "\n",
              "  .colab-df-quickchart:hover {\n",
              "    background-color: var(--hover-bg-color);\n",
              "    box-shadow: 0 1px 2px rgba(60, 64, 67, 0.3), 0 1px 3px 1px rgba(60, 64, 67, 0.15);\n",
              "    fill: var(--button-hover-fill-color);\n",
              "  }\n",
              "\n",
              "  .colab-df-quickchart-complete:disabled,\n",
              "  .colab-df-quickchart-complete:disabled:hover {\n",
              "    background-color: var(--disabled-bg-color);\n",
              "    fill: var(--disabled-fill-color);\n",
              "    box-shadow: none;\n",
              "  }\n",
              "\n",
              "  .colab-df-spinner {\n",
              "    border: 2px solid var(--fill-color);\n",
              "    border-color: transparent;\n",
              "    border-bottom-color: var(--fill-color);\n",
              "    animation:\n",
              "      spin 1s steps(1) infinite;\n",
              "  }\n",
              "\n",
              "  @keyframes spin {\n",
              "    0% {\n",
              "      border-color: transparent;\n",
              "      border-bottom-color: var(--fill-color);\n",
              "      border-left-color: var(--fill-color);\n",
              "    }\n",
              "    20% {\n",
              "      border-color: transparent;\n",
              "      border-left-color: var(--fill-color);\n",
              "      border-top-color: var(--fill-color);\n",
              "    }\n",
              "    30% {\n",
              "      border-color: transparent;\n",
              "      border-left-color: var(--fill-color);\n",
              "      border-top-color: var(--fill-color);\n",
              "      border-right-color: var(--fill-color);\n",
              "    }\n",
              "    40% {\n",
              "      border-color: transparent;\n",
              "      border-right-color: var(--fill-color);\n",
              "      border-top-color: var(--fill-color);\n",
              "    }\n",
              "    60% {\n",
              "      border-color: transparent;\n",
              "      border-right-color: var(--fill-color);\n",
              "    }\n",
              "    80% {\n",
              "      border-color: transparent;\n",
              "      border-right-color: var(--fill-color);\n",
              "      border-bottom-color: var(--fill-color);\n",
              "    }\n",
              "    90% {\n",
              "      border-color: transparent;\n",
              "      border-bottom-color: var(--fill-color);\n",
              "    }\n",
              "  }\n",
              "</style>\n",
              "\n",
              "  <script>\n",
              "    async function quickchart(key) {\n",
              "      const quickchartButtonEl =\n",
              "        document.querySelector('#' + key + ' button');\n",
              "      quickchartButtonEl.disabled = true;  // To prevent multiple clicks.\n",
              "      quickchartButtonEl.classList.add('colab-df-spinner');\n",
              "      try {\n",
              "        const charts = await google.colab.kernel.invokeFunction(\n",
              "            'suggestCharts', [key], {});\n",
              "      } catch (error) {\n",
              "        console.error('Error during call to suggestCharts:', error);\n",
              "      }\n",
              "      quickchartButtonEl.classList.remove('colab-df-spinner');\n",
              "      quickchartButtonEl.classList.add('colab-df-quickchart-complete');\n",
              "    }\n",
              "    (() => {\n",
              "      let quickchartButtonEl =\n",
              "        document.querySelector('#df-d8d5088f-2286-43a6-95f5-85cc8c136fa3 button');\n",
              "      quickchartButtonEl.style.display =\n",
              "        google.colab.kernel.accessAllowed ? 'block' : 'none';\n",
              "    })();\n",
              "  </script>\n",
              "</div>\n",
              "    </div>\n",
              "  </div>\n"
            ],
            "application/vnd.google.colaboratory.intrinsic+json": {
              "type": "dataframe",
              "variable_name": "DF"
            }
          },
          "metadata": {},
          "execution_count": 6
        }
      ]
    },
    {
      "cell_type": "markdown",
      "source": [
        "##2. 결측치 처리"
      ],
      "metadata": {
        "id": "hN5Fe-aePU1E"
      }
    },
    {
      "cell_type": "code",
      "source": [
        "DF.isna().sum(axis = 0)"
      ],
      "metadata": {
        "colab": {
          "base_uri": "https://localhost:8080/"
        },
        "id": "EBBKwLZoGl6m",
        "outputId": "61de4326-2d3a-44d0-980f-b422f0220b00"
      },
      "execution_count": null,
      "outputs": [
        {
          "output_type": "execute_result",
          "data": {
            "text/plain": [
              "category_large_desc          0\n",
              "category_middle_desc         0\n",
              "category_small_desc          0\n",
              "item                    181256\n",
              "color                   146245\n",
              "use                     615739\n",
              "material                103161\n",
              "print_pattern           490049\n",
              "characteristic          311181\n",
              "detail                  268493\n",
              "age                     854431\n",
              "weight                  816384\n",
              "season                  857385\n",
              "sensibility             254531\n",
              "sale_price                   0\n",
              "recent_sale_count            0\n",
              "dtype: int64"
            ]
          },
          "metadata": {},
          "execution_count": 7
        }
      ]
    },
    {
      "cell_type": "code",
      "source": [
        "DF.drop(columns = ['category_large_desc', 'color', 'use', 'material', 'print_pattern', 'characteristic',\n",
        "                   'detail', 'age', 'weight', 'season', 'sensibility', 'sale_price'], inplace = True)"
      ],
      "metadata": {
        "id": "SAPgUJStHGUl"
      },
      "execution_count": null,
      "outputs": []
    },
    {
      "cell_type": "code",
      "source": [
        "DF.head()"
      ],
      "metadata": {
        "colab": {
          "base_uri": "https://localhost:8080/",
          "height": 258
        },
        "id": "PxUUWsXxHj05",
        "outputId": "f79db9be-7a52-491a-edbb-7bc63858f185"
      },
      "execution_count": null,
      "outputs": [
        {
          "output_type": "execute_result",
          "data": {
            "text/plain": [
              "  category_middle_desc category_small_desc  \\\n",
              "0                  원피스                점프슈트   \n",
              "1                  원피스                점프슈트   \n",
              "2                  원피스                점프슈트   \n",
              "3                  원피스                점프슈트   \n",
              "4                  원피스                점프슈트   \n",
              "\n",
              "                                             item  recent_sale_count  \n",
              "0             바람막이/반바지/여름점프수트/반팔점프수트/반바지점프수트/점프수트                  0  \n",
              "1                       점프수트/오버롤팬츠/데님점프수트/데일리점프수트                  0  \n",
              "2                      포켓점프수트/점프수트/데님점프수트/데일리점프수트                  0  \n",
              "3  스트링점프수트/반팔점프수트/반바지/반바지점프수트/점프수트/칼라점프슈트/데일리점프수트                  0  \n",
              "4                                             NaN                  1  "
            ],
            "text/html": [
              "\n",
              "  <div id=\"df-9776346d-6d87-4400-b049-ec7ce2450aa9\" class=\"colab-df-container\">\n",
              "    <div>\n",
              "<style scoped>\n",
              "    .dataframe tbody tr th:only-of-type {\n",
              "        vertical-align: middle;\n",
              "    }\n",
              "\n",
              "    .dataframe tbody tr th {\n",
              "        vertical-align: top;\n",
              "    }\n",
              "\n",
              "    .dataframe thead th {\n",
              "        text-align: right;\n",
              "    }\n",
              "</style>\n",
              "<table border=\"1\" class=\"dataframe\">\n",
              "  <thead>\n",
              "    <tr style=\"text-align: right;\">\n",
              "      <th></th>\n",
              "      <th>category_middle_desc</th>\n",
              "      <th>category_small_desc</th>\n",
              "      <th>item</th>\n",
              "      <th>recent_sale_count</th>\n",
              "    </tr>\n",
              "  </thead>\n",
              "  <tbody>\n",
              "    <tr>\n",
              "      <th>0</th>\n",
              "      <td>원피스</td>\n",
              "      <td>점프슈트</td>\n",
              "      <td>바람막이/반바지/여름점프수트/반팔점프수트/반바지점프수트/점프수트</td>\n",
              "      <td>0</td>\n",
              "    </tr>\n",
              "    <tr>\n",
              "      <th>1</th>\n",
              "      <td>원피스</td>\n",
              "      <td>점프슈트</td>\n",
              "      <td>점프수트/오버롤팬츠/데님점프수트/데일리점프수트</td>\n",
              "      <td>0</td>\n",
              "    </tr>\n",
              "    <tr>\n",
              "      <th>2</th>\n",
              "      <td>원피스</td>\n",
              "      <td>점프슈트</td>\n",
              "      <td>포켓점프수트/점프수트/데님점프수트/데일리점프수트</td>\n",
              "      <td>0</td>\n",
              "    </tr>\n",
              "    <tr>\n",
              "      <th>3</th>\n",
              "      <td>원피스</td>\n",
              "      <td>점프슈트</td>\n",
              "      <td>스트링점프수트/반팔점프수트/반바지/반바지점프수트/점프수트/칼라점프슈트/데일리점프수트</td>\n",
              "      <td>0</td>\n",
              "    </tr>\n",
              "    <tr>\n",
              "      <th>4</th>\n",
              "      <td>원피스</td>\n",
              "      <td>점프슈트</td>\n",
              "      <td>NaN</td>\n",
              "      <td>1</td>\n",
              "    </tr>\n",
              "  </tbody>\n",
              "</table>\n",
              "</div>\n",
              "    <div class=\"colab-df-buttons\">\n",
              "\n",
              "  <div class=\"colab-df-container\">\n",
              "    <button class=\"colab-df-convert\" onclick=\"convertToInteractive('df-9776346d-6d87-4400-b049-ec7ce2450aa9')\"\n",
              "            title=\"Convert this dataframe to an interactive table.\"\n",
              "            style=\"display:none;\">\n",
              "\n",
              "  <svg xmlns=\"http://www.w3.org/2000/svg\" height=\"24px\" viewBox=\"0 -960 960 960\">\n",
              "    <path d=\"M120-120v-720h720v720H120Zm60-500h600v-160H180v160Zm220 220h160v-160H400v160Zm0 220h160v-160H400v160ZM180-400h160v-160H180v160Zm440 0h160v-160H620v160ZM180-180h160v-160H180v160Zm440 0h160v-160H620v160Z\"/>\n",
              "  </svg>\n",
              "    </button>\n",
              "\n",
              "  <style>\n",
              "    .colab-df-container {\n",
              "      display:flex;\n",
              "      gap: 12px;\n",
              "    }\n",
              "\n",
              "    .colab-df-convert {\n",
              "      background-color: #E8F0FE;\n",
              "      border: none;\n",
              "      border-radius: 50%;\n",
              "      cursor: pointer;\n",
              "      display: none;\n",
              "      fill: #1967D2;\n",
              "      height: 32px;\n",
              "      padding: 0 0 0 0;\n",
              "      width: 32px;\n",
              "    }\n",
              "\n",
              "    .colab-df-convert:hover {\n",
              "      background-color: #E2EBFA;\n",
              "      box-shadow: 0px 1px 2px rgba(60, 64, 67, 0.3), 0px 1px 3px 1px rgba(60, 64, 67, 0.15);\n",
              "      fill: #174EA6;\n",
              "    }\n",
              "\n",
              "    .colab-df-buttons div {\n",
              "      margin-bottom: 4px;\n",
              "    }\n",
              "\n",
              "    [theme=dark] .colab-df-convert {\n",
              "      background-color: #3B4455;\n",
              "      fill: #D2E3FC;\n",
              "    }\n",
              "\n",
              "    [theme=dark] .colab-df-convert:hover {\n",
              "      background-color: #434B5C;\n",
              "      box-shadow: 0px 1px 3px 1px rgba(0, 0, 0, 0.15);\n",
              "      filter: drop-shadow(0px 1px 2px rgba(0, 0, 0, 0.3));\n",
              "      fill: #FFFFFF;\n",
              "    }\n",
              "  </style>\n",
              "\n",
              "    <script>\n",
              "      const buttonEl =\n",
              "        document.querySelector('#df-9776346d-6d87-4400-b049-ec7ce2450aa9 button.colab-df-convert');\n",
              "      buttonEl.style.display =\n",
              "        google.colab.kernel.accessAllowed ? 'block' : 'none';\n",
              "\n",
              "      async function convertToInteractive(key) {\n",
              "        const element = document.querySelector('#df-9776346d-6d87-4400-b049-ec7ce2450aa9');\n",
              "        const dataTable =\n",
              "          await google.colab.kernel.invokeFunction('convertToInteractive',\n",
              "                                                    [key], {});\n",
              "        if (!dataTable) return;\n",
              "\n",
              "        const docLinkHtml = 'Like what you see? Visit the ' +\n",
              "          '<a target=\"_blank\" href=https://colab.research.google.com/notebooks/data_table.ipynb>data table notebook</a>'\n",
              "          + ' to learn more about interactive tables.';\n",
              "        element.innerHTML = '';\n",
              "        dataTable['output_type'] = 'display_data';\n",
              "        await google.colab.output.renderOutput(dataTable, element);\n",
              "        const docLink = document.createElement('div');\n",
              "        docLink.innerHTML = docLinkHtml;\n",
              "        element.appendChild(docLink);\n",
              "      }\n",
              "    </script>\n",
              "  </div>\n",
              "\n",
              "\n",
              "<div id=\"df-173b8eb4-02f8-4a61-8211-fbf63e324cb8\">\n",
              "  <button class=\"colab-df-quickchart\" onclick=\"quickchart('df-173b8eb4-02f8-4a61-8211-fbf63e324cb8')\"\n",
              "            title=\"Suggest charts\"\n",
              "            style=\"display:none;\">\n",
              "\n",
              "<svg xmlns=\"http://www.w3.org/2000/svg\" height=\"24px\"viewBox=\"0 0 24 24\"\n",
              "     width=\"24px\">\n",
              "    <g>\n",
              "        <path d=\"M19 3H5c-1.1 0-2 .9-2 2v14c0 1.1.9 2 2 2h14c1.1 0 2-.9 2-2V5c0-1.1-.9-2-2-2zM9 17H7v-7h2v7zm4 0h-2V7h2v10zm4 0h-2v-4h2v4z\"/>\n",
              "    </g>\n",
              "</svg>\n",
              "  </button>\n",
              "\n",
              "<style>\n",
              "  .colab-df-quickchart {\n",
              "      --bg-color: #E8F0FE;\n",
              "      --fill-color: #1967D2;\n",
              "      --hover-bg-color: #E2EBFA;\n",
              "      --hover-fill-color: #174EA6;\n",
              "      --disabled-fill-color: #AAA;\n",
              "      --disabled-bg-color: #DDD;\n",
              "  }\n",
              "\n",
              "  [theme=dark] .colab-df-quickchart {\n",
              "      --bg-color: #3B4455;\n",
              "      --fill-color: #D2E3FC;\n",
              "      --hover-bg-color: #434B5C;\n",
              "      --hover-fill-color: #FFFFFF;\n",
              "      --disabled-bg-color: #3B4455;\n",
              "      --disabled-fill-color: #666;\n",
              "  }\n",
              "\n",
              "  .colab-df-quickchart {\n",
              "    background-color: var(--bg-color);\n",
              "    border: none;\n",
              "    border-radius: 50%;\n",
              "    cursor: pointer;\n",
              "    display: none;\n",
              "    fill: var(--fill-color);\n",
              "    height: 32px;\n",
              "    padding: 0;\n",
              "    width: 32px;\n",
              "  }\n",
              "\n",
              "  .colab-df-quickchart:hover {\n",
              "    background-color: var(--hover-bg-color);\n",
              "    box-shadow: 0 1px 2px rgba(60, 64, 67, 0.3), 0 1px 3px 1px rgba(60, 64, 67, 0.15);\n",
              "    fill: var(--button-hover-fill-color);\n",
              "  }\n",
              "\n",
              "  .colab-df-quickchart-complete:disabled,\n",
              "  .colab-df-quickchart-complete:disabled:hover {\n",
              "    background-color: var(--disabled-bg-color);\n",
              "    fill: var(--disabled-fill-color);\n",
              "    box-shadow: none;\n",
              "  }\n",
              "\n",
              "  .colab-df-spinner {\n",
              "    border: 2px solid var(--fill-color);\n",
              "    border-color: transparent;\n",
              "    border-bottom-color: var(--fill-color);\n",
              "    animation:\n",
              "      spin 1s steps(1) infinite;\n",
              "  }\n",
              "\n",
              "  @keyframes spin {\n",
              "    0% {\n",
              "      border-color: transparent;\n",
              "      border-bottom-color: var(--fill-color);\n",
              "      border-left-color: var(--fill-color);\n",
              "    }\n",
              "    20% {\n",
              "      border-color: transparent;\n",
              "      border-left-color: var(--fill-color);\n",
              "      border-top-color: var(--fill-color);\n",
              "    }\n",
              "    30% {\n",
              "      border-color: transparent;\n",
              "      border-left-color: var(--fill-color);\n",
              "      border-top-color: var(--fill-color);\n",
              "      border-right-color: var(--fill-color);\n",
              "    }\n",
              "    40% {\n",
              "      border-color: transparent;\n",
              "      border-right-color: var(--fill-color);\n",
              "      border-top-color: var(--fill-color);\n",
              "    }\n",
              "    60% {\n",
              "      border-color: transparent;\n",
              "      border-right-color: var(--fill-color);\n",
              "    }\n",
              "    80% {\n",
              "      border-color: transparent;\n",
              "      border-right-color: var(--fill-color);\n",
              "      border-bottom-color: var(--fill-color);\n",
              "    }\n",
              "    90% {\n",
              "      border-color: transparent;\n",
              "      border-bottom-color: var(--fill-color);\n",
              "    }\n",
              "  }\n",
              "</style>\n",
              "\n",
              "  <script>\n",
              "    async function quickchart(key) {\n",
              "      const quickchartButtonEl =\n",
              "        document.querySelector('#' + key + ' button');\n",
              "      quickchartButtonEl.disabled = true;  // To prevent multiple clicks.\n",
              "      quickchartButtonEl.classList.add('colab-df-spinner');\n",
              "      try {\n",
              "        const charts = await google.colab.kernel.invokeFunction(\n",
              "            'suggestCharts', [key], {});\n",
              "      } catch (error) {\n",
              "        console.error('Error during call to suggestCharts:', error);\n",
              "      }\n",
              "      quickchartButtonEl.classList.remove('colab-df-spinner');\n",
              "      quickchartButtonEl.classList.add('colab-df-quickchart-complete');\n",
              "    }\n",
              "    (() => {\n",
              "      let quickchartButtonEl =\n",
              "        document.querySelector('#df-173b8eb4-02f8-4a61-8211-fbf63e324cb8 button');\n",
              "      quickchartButtonEl.style.display =\n",
              "        google.colab.kernel.accessAllowed ? 'block' : 'none';\n",
              "    })();\n",
              "  </script>\n",
              "</div>\n",
              "    </div>\n",
              "  </div>\n"
            ],
            "application/vnd.google.colaboratory.intrinsic+json": {
              "type": "dataframe",
              "variable_name": "DF"
            }
          },
          "metadata": {},
          "execution_count": 9
        }
      ]
    },
    {
      "cell_type": "code",
      "source": [
        "DF['category_middle_desc'].value_counts()"
      ],
      "metadata": {
        "colab": {
          "base_uri": "https://localhost:8080/"
        },
        "id": "7xuegP0lIf58",
        "outputId": "a7001d96-395c-4116-f900-ee1911a519a6"
      },
      "execution_count": null,
      "outputs": [
        {
          "output_type": "execute_result",
          "data": {
            "text/plain": [
              "상의     372183\n",
              "아우터    167236\n",
              "원피스    137391\n",
              "팬츠     114182\n",
              "스커트     67223\n",
              "Name: category_middle_desc, dtype: int64"
            ]
          },
          "metadata": {},
          "execution_count": 10
        }
      ]
    },
    {
      "cell_type": "code",
      "source": [
        "DF['category_small_desc'].value_counts()"
      ],
      "metadata": {
        "colab": {
          "base_uri": "https://localhost:8080/"
        },
        "id": "ajfQ6cqlHmaA",
        "outputId": "9477520e-1b55-4d95-a570-5f01531a2312"
      },
      "execution_count": null,
      "outputs": [
        {
          "output_type": "execute_result",
          "data": {
            "text/plain": [
              "티셔츠         153295\n",
              "롱원피스        102178\n",
              "블라우스/셔츠      99994\n",
              "니트           99703\n",
              "자켓           66168\n",
              "카디건          53175\n",
              "데님팬츠         48047\n",
              "면바지          43986\n",
              "롱스커트         39142\n",
              "점퍼           30009\n",
              "미니원피스        21066\n",
              "뷔스티에/베스트     19191\n",
              "코트           17884\n",
              "반바지          15526\n",
              "플레어스커트       11105\n",
              "H라인스커트        9951\n",
              "점프슈트          7221\n",
              "플리츠스커트        3972\n",
              "조거팬츠          3955\n",
              "코듀로이팬츠        2382\n",
              "미니스커트         1477\n",
              "리넨원피스         1357\n",
              "니트원피스         1352\n",
              "플리츠원피스        1116\n",
              "머메이드스커트        961\n",
              "스퀘어넥원피스        878\n",
              "트위드원피스         807\n",
              "데님스커트          615\n",
              "뷔스티에원피스        592\n",
              "랩원피스           440\n",
              "슬랙스            286\n",
              "셔츠원피스          214\n",
              "쉬폰원피스          109\n",
              "데님원피스           61\n",
              "Name: category_small_desc, dtype: int64"
            ]
          },
          "metadata": {},
          "execution_count": 11
        }
      ]
    },
    {
      "cell_type": "code",
      "source": [
        "DF['item'].fillna(DF['category_small_desc'], inplace = True)\n",
        "\n",
        "DF.head()"
      ],
      "metadata": {
        "colab": {
          "base_uri": "https://localhost:8080/",
          "height": 258
        },
        "id": "gyI8JShbH47a",
        "outputId": "7d0fb42f-128b-4a5b-d4e9-b2215be9f504"
      },
      "execution_count": null,
      "outputs": [
        {
          "output_type": "execute_result",
          "data": {
            "text/plain": [
              "  category_middle_desc category_small_desc  \\\n",
              "0                  원피스                점프슈트   \n",
              "1                  원피스                점프슈트   \n",
              "2                  원피스                점프슈트   \n",
              "3                  원피스                점프슈트   \n",
              "4                  원피스                점프슈트   \n",
              "\n",
              "                                             item  recent_sale_count  \n",
              "0             바람막이/반바지/여름점프수트/반팔점프수트/반바지점프수트/점프수트                  0  \n",
              "1                       점프수트/오버롤팬츠/데님점프수트/데일리점프수트                  0  \n",
              "2                      포켓점프수트/점프수트/데님점프수트/데일리점프수트                  0  \n",
              "3  스트링점프수트/반팔점프수트/반바지/반바지점프수트/점프수트/칼라점프슈트/데일리점프수트                  0  \n",
              "4                                            점프슈트                  1  "
            ],
            "text/html": [
              "\n",
              "  <div id=\"df-ac45c23d-f053-47f8-a7f3-8ebbed59841e\" class=\"colab-df-container\">\n",
              "    <div>\n",
              "<style scoped>\n",
              "    .dataframe tbody tr th:only-of-type {\n",
              "        vertical-align: middle;\n",
              "    }\n",
              "\n",
              "    .dataframe tbody tr th {\n",
              "        vertical-align: top;\n",
              "    }\n",
              "\n",
              "    .dataframe thead th {\n",
              "        text-align: right;\n",
              "    }\n",
              "</style>\n",
              "<table border=\"1\" class=\"dataframe\">\n",
              "  <thead>\n",
              "    <tr style=\"text-align: right;\">\n",
              "      <th></th>\n",
              "      <th>category_middle_desc</th>\n",
              "      <th>category_small_desc</th>\n",
              "      <th>item</th>\n",
              "      <th>recent_sale_count</th>\n",
              "    </tr>\n",
              "  </thead>\n",
              "  <tbody>\n",
              "    <tr>\n",
              "      <th>0</th>\n",
              "      <td>원피스</td>\n",
              "      <td>점프슈트</td>\n",
              "      <td>바람막이/반바지/여름점프수트/반팔점프수트/반바지점프수트/점프수트</td>\n",
              "      <td>0</td>\n",
              "    </tr>\n",
              "    <tr>\n",
              "      <th>1</th>\n",
              "      <td>원피스</td>\n",
              "      <td>점프슈트</td>\n",
              "      <td>점프수트/오버롤팬츠/데님점프수트/데일리점프수트</td>\n",
              "      <td>0</td>\n",
              "    </tr>\n",
              "    <tr>\n",
              "      <th>2</th>\n",
              "      <td>원피스</td>\n",
              "      <td>점프슈트</td>\n",
              "      <td>포켓점프수트/점프수트/데님점프수트/데일리점프수트</td>\n",
              "      <td>0</td>\n",
              "    </tr>\n",
              "    <tr>\n",
              "      <th>3</th>\n",
              "      <td>원피스</td>\n",
              "      <td>점프슈트</td>\n",
              "      <td>스트링점프수트/반팔점프수트/반바지/반바지점프수트/점프수트/칼라점프슈트/데일리점프수트</td>\n",
              "      <td>0</td>\n",
              "    </tr>\n",
              "    <tr>\n",
              "      <th>4</th>\n",
              "      <td>원피스</td>\n",
              "      <td>점프슈트</td>\n",
              "      <td>점프슈트</td>\n",
              "      <td>1</td>\n",
              "    </tr>\n",
              "  </tbody>\n",
              "</table>\n",
              "</div>\n",
              "    <div class=\"colab-df-buttons\">\n",
              "\n",
              "  <div class=\"colab-df-container\">\n",
              "    <button class=\"colab-df-convert\" onclick=\"convertToInteractive('df-ac45c23d-f053-47f8-a7f3-8ebbed59841e')\"\n",
              "            title=\"Convert this dataframe to an interactive table.\"\n",
              "            style=\"display:none;\">\n",
              "\n",
              "  <svg xmlns=\"http://www.w3.org/2000/svg\" height=\"24px\" viewBox=\"0 -960 960 960\">\n",
              "    <path d=\"M120-120v-720h720v720H120Zm60-500h600v-160H180v160Zm220 220h160v-160H400v160Zm0 220h160v-160H400v160ZM180-400h160v-160H180v160Zm440 0h160v-160H620v160ZM180-180h160v-160H180v160Zm440 0h160v-160H620v160Z\"/>\n",
              "  </svg>\n",
              "    </button>\n",
              "\n",
              "  <style>\n",
              "    .colab-df-container {\n",
              "      display:flex;\n",
              "      gap: 12px;\n",
              "    }\n",
              "\n",
              "    .colab-df-convert {\n",
              "      background-color: #E8F0FE;\n",
              "      border: none;\n",
              "      border-radius: 50%;\n",
              "      cursor: pointer;\n",
              "      display: none;\n",
              "      fill: #1967D2;\n",
              "      height: 32px;\n",
              "      padding: 0 0 0 0;\n",
              "      width: 32px;\n",
              "    }\n",
              "\n",
              "    .colab-df-convert:hover {\n",
              "      background-color: #E2EBFA;\n",
              "      box-shadow: 0px 1px 2px rgba(60, 64, 67, 0.3), 0px 1px 3px 1px rgba(60, 64, 67, 0.15);\n",
              "      fill: #174EA6;\n",
              "    }\n",
              "\n",
              "    .colab-df-buttons div {\n",
              "      margin-bottom: 4px;\n",
              "    }\n",
              "\n",
              "    [theme=dark] .colab-df-convert {\n",
              "      background-color: #3B4455;\n",
              "      fill: #D2E3FC;\n",
              "    }\n",
              "\n",
              "    [theme=dark] .colab-df-convert:hover {\n",
              "      background-color: #434B5C;\n",
              "      box-shadow: 0px 1px 3px 1px rgba(0, 0, 0, 0.15);\n",
              "      filter: drop-shadow(0px 1px 2px rgba(0, 0, 0, 0.3));\n",
              "      fill: #FFFFFF;\n",
              "    }\n",
              "  </style>\n",
              "\n",
              "    <script>\n",
              "      const buttonEl =\n",
              "        document.querySelector('#df-ac45c23d-f053-47f8-a7f3-8ebbed59841e button.colab-df-convert');\n",
              "      buttonEl.style.display =\n",
              "        google.colab.kernel.accessAllowed ? 'block' : 'none';\n",
              "\n",
              "      async function convertToInteractive(key) {\n",
              "        const element = document.querySelector('#df-ac45c23d-f053-47f8-a7f3-8ebbed59841e');\n",
              "        const dataTable =\n",
              "          await google.colab.kernel.invokeFunction('convertToInteractive',\n",
              "                                                    [key], {});\n",
              "        if (!dataTable) return;\n",
              "\n",
              "        const docLinkHtml = 'Like what you see? Visit the ' +\n",
              "          '<a target=\"_blank\" href=https://colab.research.google.com/notebooks/data_table.ipynb>data table notebook</a>'\n",
              "          + ' to learn more about interactive tables.';\n",
              "        element.innerHTML = '';\n",
              "        dataTable['output_type'] = 'display_data';\n",
              "        await google.colab.output.renderOutput(dataTable, element);\n",
              "        const docLink = document.createElement('div');\n",
              "        docLink.innerHTML = docLinkHtml;\n",
              "        element.appendChild(docLink);\n",
              "      }\n",
              "    </script>\n",
              "  </div>\n",
              "\n",
              "\n",
              "<div id=\"df-d6be8cd0-1810-44e5-afd2-27b9024f39be\">\n",
              "  <button class=\"colab-df-quickchart\" onclick=\"quickchart('df-d6be8cd0-1810-44e5-afd2-27b9024f39be')\"\n",
              "            title=\"Suggest charts\"\n",
              "            style=\"display:none;\">\n",
              "\n",
              "<svg xmlns=\"http://www.w3.org/2000/svg\" height=\"24px\"viewBox=\"0 0 24 24\"\n",
              "     width=\"24px\">\n",
              "    <g>\n",
              "        <path d=\"M19 3H5c-1.1 0-2 .9-2 2v14c0 1.1.9 2 2 2h14c1.1 0 2-.9 2-2V5c0-1.1-.9-2-2-2zM9 17H7v-7h2v7zm4 0h-2V7h2v10zm4 0h-2v-4h2v4z\"/>\n",
              "    </g>\n",
              "</svg>\n",
              "  </button>\n",
              "\n",
              "<style>\n",
              "  .colab-df-quickchart {\n",
              "      --bg-color: #E8F0FE;\n",
              "      --fill-color: #1967D2;\n",
              "      --hover-bg-color: #E2EBFA;\n",
              "      --hover-fill-color: #174EA6;\n",
              "      --disabled-fill-color: #AAA;\n",
              "      --disabled-bg-color: #DDD;\n",
              "  }\n",
              "\n",
              "  [theme=dark] .colab-df-quickchart {\n",
              "      --bg-color: #3B4455;\n",
              "      --fill-color: #D2E3FC;\n",
              "      --hover-bg-color: #434B5C;\n",
              "      --hover-fill-color: #FFFFFF;\n",
              "      --disabled-bg-color: #3B4455;\n",
              "      --disabled-fill-color: #666;\n",
              "  }\n",
              "\n",
              "  .colab-df-quickchart {\n",
              "    background-color: var(--bg-color);\n",
              "    border: none;\n",
              "    border-radius: 50%;\n",
              "    cursor: pointer;\n",
              "    display: none;\n",
              "    fill: var(--fill-color);\n",
              "    height: 32px;\n",
              "    padding: 0;\n",
              "    width: 32px;\n",
              "  }\n",
              "\n",
              "  .colab-df-quickchart:hover {\n",
              "    background-color: var(--hover-bg-color);\n",
              "    box-shadow: 0 1px 2px rgba(60, 64, 67, 0.3), 0 1px 3px 1px rgba(60, 64, 67, 0.15);\n",
              "    fill: var(--button-hover-fill-color);\n",
              "  }\n",
              "\n",
              "  .colab-df-quickchart-complete:disabled,\n",
              "  .colab-df-quickchart-complete:disabled:hover {\n",
              "    background-color: var(--disabled-bg-color);\n",
              "    fill: var(--disabled-fill-color);\n",
              "    box-shadow: none;\n",
              "  }\n",
              "\n",
              "  .colab-df-spinner {\n",
              "    border: 2px solid var(--fill-color);\n",
              "    border-color: transparent;\n",
              "    border-bottom-color: var(--fill-color);\n",
              "    animation:\n",
              "      spin 1s steps(1) infinite;\n",
              "  }\n",
              "\n",
              "  @keyframes spin {\n",
              "    0% {\n",
              "      border-color: transparent;\n",
              "      border-bottom-color: var(--fill-color);\n",
              "      border-left-color: var(--fill-color);\n",
              "    }\n",
              "    20% {\n",
              "      border-color: transparent;\n",
              "      border-left-color: var(--fill-color);\n",
              "      border-top-color: var(--fill-color);\n",
              "    }\n",
              "    30% {\n",
              "      border-color: transparent;\n",
              "      border-left-color: var(--fill-color);\n",
              "      border-top-color: var(--fill-color);\n",
              "      border-right-color: var(--fill-color);\n",
              "    }\n",
              "    40% {\n",
              "      border-color: transparent;\n",
              "      border-right-color: var(--fill-color);\n",
              "      border-top-color: var(--fill-color);\n",
              "    }\n",
              "    60% {\n",
              "      border-color: transparent;\n",
              "      border-right-color: var(--fill-color);\n",
              "    }\n",
              "    80% {\n",
              "      border-color: transparent;\n",
              "      border-right-color: var(--fill-color);\n",
              "      border-bottom-color: var(--fill-color);\n",
              "    }\n",
              "    90% {\n",
              "      border-color: transparent;\n",
              "      border-bottom-color: var(--fill-color);\n",
              "    }\n",
              "  }\n",
              "</style>\n",
              "\n",
              "  <script>\n",
              "    async function quickchart(key) {\n",
              "      const quickchartButtonEl =\n",
              "        document.querySelector('#' + key + ' button');\n",
              "      quickchartButtonEl.disabled = true;  // To prevent multiple clicks.\n",
              "      quickchartButtonEl.classList.add('colab-df-spinner');\n",
              "      try {\n",
              "        const charts = await google.colab.kernel.invokeFunction(\n",
              "            'suggestCharts', [key], {});\n",
              "      } catch (error) {\n",
              "        console.error('Error during call to suggestCharts:', error);\n",
              "      }\n",
              "      quickchartButtonEl.classList.remove('colab-df-spinner');\n",
              "      quickchartButtonEl.classList.add('colab-df-quickchart-complete');\n",
              "    }\n",
              "    (() => {\n",
              "      let quickchartButtonEl =\n",
              "        document.querySelector('#df-d6be8cd0-1810-44e5-afd2-27b9024f39be button');\n",
              "      quickchartButtonEl.style.display =\n",
              "        google.colab.kernel.accessAllowed ? 'block' : 'none';\n",
              "    })();\n",
              "  </script>\n",
              "</div>\n",
              "    </div>\n",
              "  </div>\n"
            ],
            "application/vnd.google.colaboratory.intrinsic+json": {
              "type": "dataframe",
              "variable_name": "DF"
            }
          },
          "metadata": {},
          "execution_count": 12
        }
      ]
    },
    {
      "cell_type": "code",
      "source": [
        "DF.isna().sum(axis = 0)"
      ],
      "metadata": {
        "colab": {
          "base_uri": "https://localhost:8080/"
        },
        "id": "oSxBu2C8IJHm",
        "outputId": "b88deabc-175f-4f78-96bf-8845a89b164d"
      },
      "execution_count": null,
      "outputs": [
        {
          "output_type": "execute_result",
          "data": {
            "text/plain": [
              "category_middle_desc    0\n",
              "category_small_desc     0\n",
              "item                    0\n",
              "recent_sale_count       0\n",
              "dtype: int64"
            ]
          },
          "metadata": {},
          "execution_count": 13
        }
      ]
    },
    {
      "cell_type": "code",
      "source": [
        "DF1 = DF[DF['recent_sale_count'] >= 1]"
      ],
      "metadata": {
        "id": "x2CW5taRVzPx"
      },
      "execution_count": null,
      "outputs": []
    },
    {
      "cell_type": "code",
      "source": [
        "DF1.groupby(['category_middle_desc'])['recent_sale_count'].sum()"
      ],
      "metadata": {
        "colab": {
          "base_uri": "https://localhost:8080/"
        },
        "id": "Absht1-BWwF6",
        "outputId": "dc3ff23b-490d-42a0-d9c6-580049202c51"
      },
      "execution_count": null,
      "outputs": [
        {
          "output_type": "execute_result",
          "data": {
            "text/plain": [
              "category_middle_desc\n",
              "상의     19224\n",
              "스커트     3779\n",
              "아우터     7521\n",
              "원피스     4101\n",
              "팬츠      5867\n",
              "Name: recent_sale_count, dtype: int64"
            ]
          },
          "metadata": {},
          "execution_count": 28
        }
      ]
    },
    {
      "cell_type": "code",
      "source": [
        "DF1.groupby(['category_small_desc'])['recent_sale_count'].sum()"
      ],
      "metadata": {
        "colab": {
          "base_uri": "https://localhost:8080/"
        },
        "id": "C1m_rFJjW7Ia",
        "outputId": "6e3d4085-f225-4fd7-9cde-6044a719b664"
      },
      "execution_count": null,
      "outputs": [
        {
          "output_type": "execute_result",
          "data": {
            "text/plain": [
              "category_small_desc\n",
              "H라인스커트       268\n",
              "니트          4729\n",
              "니트원피스         88\n",
              "데님스커트         15\n",
              "데님원피스          8\n",
              "데님팬츠        3243\n",
              "랩원피스           5\n",
              "롱스커트        2482\n",
              "롱원피스        3288\n",
              "리넨원피스          2\n",
              "머메이드스커트       53\n",
              "면바지         2179\n",
              "미니스커트         24\n",
              "미니원피스        340\n",
              "반바지          206\n",
              "뷔스티에/베스트    1361\n",
              "뷔스티에원피스      111\n",
              "블라우스/셔츠     3946\n",
              "셔츠원피스          6\n",
              "쉬폰원피스         18\n",
              "스퀘어넥원피스        8\n",
              "슬랙스           22\n",
              "자켓          3554\n",
              "점퍼           929\n",
              "점프슈트         124\n",
              "조거팬츠         155\n",
              "카디건         2754\n",
              "코듀로이팬츠        62\n",
              "코트           284\n",
              "트위드원피스        91\n",
              "티셔츠         9188\n",
              "플레어스커트       362\n",
              "플리츠스커트       575\n",
              "플리츠원피스        12\n",
              "Name: recent_sale_count, dtype: int64"
            ]
          },
          "metadata": {},
          "execution_count": 29
        }
      ]
    },
    {
      "cell_type": "markdown",
      "source": [
        "## 3. 시각화"
      ],
      "metadata": {
        "id": "jLyuDJAsP8vz"
      }
    },
    {
      "cell_type": "code",
      "source": [
        "DF1.groupby(['category_middle_desc'])['recent_sale_count'].sum().plot.bar(rot = 0 , figsize=(12,7));"
      ],
      "metadata": {
        "id": "xYywrmTDNYnl",
        "colab": {
          "base_uri": "https://localhost:8080/",
          "height": 558
        },
        "outputId": "01c2ac61-a0e8-431a-e6f4-af966d7de6e4"
      },
      "execution_count": null,
      "outputs": [
        {
          "output_type": "display_data",
          "data": {
            "text/plain": [
              "<Figure size 1200x700 with 1 Axes>"
            ],
            "image/png": "[encoded data removed]"
          },
          "metadata": {}
        }
      ]
    },
    {
      "cell_type": "code",
      "source": [
        "DF1.groupby(['category_small_desc'])['recent_sale_count'].sum().plot.bar(rot = 0 , figsize=(12,7));"
      ],
      "metadata": {
        "colab": {
          "base_uri": "https://localhost:8080/",
          "height": 549
        },
        "id": "RFhjRyrBO2pN",
        "outputId": "b60d8661-d8ab-4642-bfa0-f3d81485bcae"
      },
      "execution_count": null,
      "outputs": [
        {
          "output_type": "display_data",
          "data": {
            "text/plain": [
              "<Figure size 1200x700 with 1 Axes>"
            ],
            "image/png": "[encoded data removed]"
          },
          "metadata": {}
        }
      ]
    },
    {
      "cell_type": "markdown",
      "source": [
        "#날씨"
      ],
      "metadata": {
        "id": "rfS7TXCdQINI"
      }
    },
    {
      "cell_type": "code",
      "source": [
        "DF_W = pd.read_csv('/content/drive/MyDrive/5조/03. 데이터/날씨 데이터/23.03.21~24.03.20.csv', encoding='CP949')"
      ],
      "metadata": {
        "id": "61qfrR64O5Rm"
      },
      "execution_count": null,
      "outputs": []
    },
    {
      "cell_type": "code",
      "source": [
        "DF_W.info()"
      ],
      "metadata": {
        "colab": {
          "base_uri": "https://localhost:8080/"
        },
        "id": "jTplvF-VSmpI",
        "outputId": "5b06dcd2-22ea-4a91-c54f-3c9b0d8e750e"
      },
      "execution_count": null,
      "outputs": [
        {
          "output_type": "stream",
          "name": "stdout",
          "text": [
            "<class 'pandas.core.frame.DataFrame'>\n",
            "RangeIndex: 8761 entries, 0 to 8760\n",
            "Data columns (total 6 columns):\n",
            " #   Column   Non-Null Count  Dtype  \n",
            "---  ------   --------------  -----  \n",
            " 0   일시       8761 non-null   object \n",
            " 1   기온(°C)   8761 non-null   float64\n",
            " 2   강수량(mm)  1144 non-null   float64\n",
            " 3   풍속(m/s)  8693 non-null   float64\n",
            " 4   습도(%)    8761 non-null   int64  \n",
            " 5   적설(cm)   423 non-null    float64\n",
            "dtypes: float64(4), int64(1), object(1)\n",
            "memory usage: 410.8+ KB\n"
          ]
        }
      ]
    },
    {
      "cell_type": "code",
      "source": [
        "import datetime"
      ],
      "metadata": {
        "id": "gLJtJ6VrSq0j"
      },
      "execution_count": null,
      "outputs": []
    }
  ]
}