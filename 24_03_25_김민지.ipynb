{
  "nbformat": 4,
  "nbformat_minor": 0,
  "metadata": {
    "colab": {
      "provenance": [],
      "include_colab_link": true
    },
    "kernelspec": {
      "name": "python3",
      "display_name": "Python 3"
    },
    "language_info": {
      "name": "python"
    }
  },
  "cells": [
    {
      "cell_type": "markdown",
      "metadata": {
        "id": "view-in-github",
        "colab_type": "text"
      },
      "source": [
        "<a href=\"https://colab.research.google.com/github/MinJi12345678/Source-Code/blob/main/24_03_25_%EA%B9%80%EB%AF%BC%EC%A7%80.ipynb\" target=\"_parent\"><img src=\"https://colab.research.google.com/assets/colab-badge.svg\" alt=\"Open In Colab\"/></a>"
      ]
    },
    {
      "cell_type": "markdown",
      "source": [
        "# 10월 패션 데이터 합치기"
      ],
      "metadata": {
        "id": "Pqmvg3Y9zsrm"
      }
    },
    {
      "cell_type": "code",
      "execution_count": 1,
      "metadata": {
        "id": "_4kCU-nczcaI"
      },
      "outputs": [],
      "source": [
        "import warnings\n",
        "warnings.filterwarnings('ignore')"
      ]
    },
    {
      "cell_type": "code",
      "source": [
        "from google.colab import drive\n",
        "drive.mount('/content/drive')"
      ],
      "metadata": {
        "colab": {
          "base_uri": "https://localhost:8080/"
        },
        "id": "sxy-hWM1zyHG",
        "outputId": "cc633b7d-cce6-443f-facf-4c0ffd218cd0"
      },
      "execution_count": 2,
      "outputs": [
        {
          "output_type": "stream",
          "name": "stdout",
          "text": [
            "Mounted at /content/drive\n"
          ]
        }
      ]
    },
    {
      "cell_type": "markdown",
      "source": [
        "1. 패션 데이터 불러오기"
      ],
      "metadata": {
        "id": "GjwJBqMEb9lz"
      }
    },
    {
      "cell_type": "code",
      "source": [
        "import pandas as pd\n",
        "df1 = '/content/drive/MyDrive/5조/03. 데이터/2차 전처리 패션 데이터/김민지_2307.csv'\n",
        "df2 = '/content/drive/MyDrive/5조/03. 데이터/2차 전처리 패션 데이터/김민지_2308.csv'\n",
        "df3 = '/content/drive/MyDrive/5조/03. 데이터/2차 전처리 패션 데이터/김민지_2309.csv'\n",
        "df4 = '/content/drive/MyDrive/5조/03. 데이터/2차 전처리 패션 데이터/김민지_231004.csv'\n",
        "df1 = pd.read_csv(df1)\n",
        "df2 = pd.read_csv(df2)\n",
        "df3 = pd.read_csv(df3)\n",
        "df4 = pd.read_csv(df4)"
      ],
      "metadata": {
        "id": "gm2A9_7jz0mX"
      },
      "execution_count": 4,
      "outputs": []
    },
    {
      "cell_type": "markdown",
      "source": [
        "2. 데이터 합치기"
      ],
      "metadata": {
        "id": "zJa6whAdcBQV"
      }
    },
    {
      "cell_type": "code",
      "source": [
        "df = pd.concat([df1,df2, df3, df4], ignore_index=True)"
      ],
      "metadata": {
        "id": "CVHDFNOACvId"
      },
      "execution_count": 5,
      "outputs": []
    },
    {
      "cell_type": "markdown",
      "source": [
        ".info()"
      ],
      "metadata": {
        "id": "6ZDsLkJ8cJwb"
      }
    },
    {
      "cell_type": "code",
      "source": [
        "file_path = '/content/drive/MyDrive/5조/03. 데이터/2차 전처리 패션 데이터/김민지_2307~1004.csv'  # 저장할 파일 경로\n",
        "df.to_csv(file_path, index=False)\n",
        "\n",
        "print(\"CSV 파일이 성공적으로 저장되었습니다.\")"
      ],
      "metadata": {
        "colab": {
          "base_uri": "https://localhost:8080/"
        },
        "id": "JSTbpVW6N0tG",
        "outputId": "46db3775-ac48-4298-f36b-a5c2e01acf07"
      },
      "execution_count": 7,
      "outputs": [
        {
          "output_type": "stream",
          "name": "stdout",
          "text": [
            "CSV 파일이 성공적으로 저장되었습니다.\n"
          ]
        }
      ]
    }
  ]
}